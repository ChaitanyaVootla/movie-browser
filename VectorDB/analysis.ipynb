{
 "cells": [
  {
   "cell_type": "code",
   "execution_count": null,
   "metadata": {},
   "outputs": [],
   "source": [
    "import pandas as pd\n",
    "from sklearn.decomposition import PCA\n",
    "from sklearn.manifold import TSNE\n",
    "import chromadb\n",
    "import plotly.express as px\n",
    "\n",
    "MODEL_NAME = \"msmarco-MiniLM-L-6-v3\"\n",
    "# MODEL_NAME = \"all-mpnet-base-v2\"\n",
    "flatModelName = MODEL_NAME.replace('-', '')\n",
    "path = f'./{flatModelName}'\n",
    "chroma_client = chromadb.PersistentClient(path=path)\n",
    "\n",
    "chroma_collection = chroma_client.get_or_create_collection(name=\"movies\",\n",
    "    metadata={\"hnsw:space\": \"cosine\"})\n",
    "\n",
    "allMovies = chroma_collection.get(include=[\"embeddings\", 'metadatas'])\n",
    "\n",
    "print(f\"Number of movies: {len(allMovies['embeddings'])}\")\n",
    "\n",
    "# Create a dataframe\n",
    "df = pd.DataFrame(allMovies['embeddings'])\n",
    "\n",
    "# PCA for dimensionality reduction\n",
    "pca = PCA(n_components=2)  # reduce to 2 dimensions for visualization\n",
    "pca_result = pca.fit_transform(df.values)\n",
    "\n",
    "df['pca-one'] = pca_result[:, 0]\n",
    "df['pca-two'] = pca_result[:, 1]\n",
    "\n",
    "# t-SNE for dimensionality reduction\n",
    "tsne = TSNE(n_components=2, verbose=1, perplexity=40, n_iter=300)\n",
    "tsne_results = tsne.fit_transform(df.values)\n",
    "\n",
    "df['tsne-one'] = tsne_results[:, 0]\n",
    "df['tsne-two'] = tsne_results[:, 1]\n",
    "df['title'] = [m['title'] for m in allMovies['metadatas']]\n",
    "\n",
    "# Plotting using Plotly\n",
    "fig_pca = px.scatter(df, x='pca-one', y='pca-two', hover_data=['title'])\n",
    "fig_pca.update_layout(title='PCA of Movie Dataset', xaxis_title='PCA 1', yaxis_title='PCA 2')\n",
    "\n",
    "fig_tsne = px.scatter(df, x='tsne-one', y='tsne-two', hover_data=['title'])\n",
    "fig_tsne.update_layout(title='t-SNE of Movie Dataset', xaxis_title='t-SNE 1', yaxis_title='t-SNE 2')\n",
    "\n",
    "# Display the plots\n",
    "fig_pca.show()\n",
    "fig_tsne.show()\n"
   ]
  }
 ],
 "metadata": {
  "kernelspec": {
   "display_name": "Python 3",
   "language": "python",
   "name": "python3"
  },
  "language_info": {
   "codemirror_mode": {
    "name": "ipython",
    "version": 3
   },
   "file_extension": ".py",
   "mimetype": "text/x-python",
   "name": "python",
   "nbconvert_exporter": "python",
   "pygments_lexer": "ipython3",
   "version": "3.10.7"
  }
 },
 "nbformat": 4,
 "nbformat_minor": 2
}
